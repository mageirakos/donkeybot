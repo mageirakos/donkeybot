{
 "cells": [
  {
   "cell_type": "markdown",
   "metadata": {},
   "source": [
    "## Question Answering Interface Notebook Contents\n",
    "- [What do I need to import?](#What-do-I-need-to-import?)\n",
    "- [Helper Fucntions](#Helper-functions)\n",
    "- [What are all the steps I need to take to prepare the QAInterface?](#What-are-all-the-steps-I-need-to-take-to-prepare-the-QAInterface?)\n",
    "- [How do I ask?](#How-do-I-ask?)"
   ]
  },
  {
   "cell_type": "markdown",
   "metadata": {},
   "source": [
    "### What do I need to import?"
   ]
  },
  {
   "cell_type": "markdown",
   "metadata": {},
   "source": [
    "Well basically you need the QAInterface and everything it connects :   \n",
    "    - The Answer Detector (with pytorch)  \n",
    "    - The Search Engines  \n",
    "   \n",
    "pprint and time aren't required they only help us visualize the results   "
   ]
  },
  {
   "cell_type": "code",
   "execution_count": 1,
   "metadata": {},
   "outputs": [],
   "source": [
    "# bot modules\n",
    "from bot.brain import QAInterface\n",
    "from bot.searcher.base import SearchEngine\n",
    "from bot.searcher.question import QuestionSearchEngine\n",
    "from bot.searcher.faq import FAQSearchEngine\n",
    "from bot.answer.detector import AnswerDetector\n",
    "from bot.database.sqlite import Database\n",
    "\n",
    "# general python\n",
    "import torch\n",
    "import time\n",
    "import pprint"
   ]
  },
  {
   "cell_type": "markdown",
   "metadata": {},
   "source": [
    "### Helper functions"
   ]
  },
  {
   "cell_type": "markdown",
   "metadata": {},
   "source": [
    "### What are all the steps I need to take to prepare the QAInterface?"
   ]
  },
  {
   "cell_type": "markdown",
   "metadata": {},
   "source": [
    "#### Open connection to Data Storage"
   ]
  },
  {
   "cell_type": "code",
   "execution_count": 2,
   "metadata": {},
   "outputs": [],
   "source": [
    "# prepare data_storage\n",
    "data_storage = Database(\"data_storage.db\")"
   ]
  },
  {
   "cell_type": "markdown",
   "metadata": {},
   "source": [
    "#### Load Answer Detector"
   ]
  },
  {
   "cell_type": "code",
   "execution_count": 3,
   "metadata": {},
   "outputs": [],
   "source": [
    "model = 'distilbert-base-cased-distilled-squad'\n",
    "gpu = 0 if torch.cuda.is_available() else -1"
   ]
  },
  {
   "cell_type": "code",
   "execution_count": 4,
   "metadata": {},
   "outputs": [],
   "source": [
    "# load answer detector\n",
    "answer_detector = AnswerDetector(model=model, device=gpu)"
   ]
  },
  {
   "cell_type": "markdown",
   "metadata": {},
   "source": [
    "#### Load Search Engines"
   ]
  },
  {
   "cell_type": "code",
   "execution_count": 5,
   "metadata": {},
   "outputs": [],
   "source": [
    "def setup_search_engines(db=Database):\n",
    "    print(\"Loading SearchEngines...\")\n",
    "    docs_se = SearchEngine()\n",
    "    docs_se.load_index(db=db, table_name=\"rucio_doc_term_matrix\")\n",
    "    question_se = QuestionSearchEngine()\n",
    "    question_se.load_index(db=db, table_name=\"questions_doc_term_matrix\")\n",
    "    faq_se = FAQSearchEngine()\n",
    "    faq_se.load_index(db=db, table_name=\"faq_doc_term_matrix\")\n",
    "    return faq_se, docs_se, question_se"
   ]
  },
  {
   "cell_type": "code",
   "execution_count": 6,
   "metadata": {},
   "outputs": [
    {
     "name": "stdout",
     "output_type": "stream",
     "text": [
      "Loading SearchEngines...\n"
     ]
    }
   ],
   "source": [
    "# load search engines\n",
    "faq_se, docs_se, question_se = setup_search_engines(db=data_storage)"
   ]
  },
  {
   "cell_type": "markdown",
   "metadata": {},
   "source": [
    "#### Load QA Interface"
   ]
  },
  {
   "cell_type": "code",
   "execution_count": 7,
   "metadata": {},
   "outputs": [],
   "source": [
    "# load interface\n",
    "qa_interface = QAInterface(\n",
    "    detector=answer_detector,\n",
    "    question_engine=question_se,\n",
    "    faq_engine=faq_se,\n",
    "    docs_engine=docs_se,\n",
    ")"
   ]
  },
  {
   "cell_type": "markdown",
   "metadata": {},
   "source": [
    "### How do I ask?"
   ]
  },
  {
   "cell_type": "markdown",
   "metadata": {},
   "source": [
    "Simply have a query and the number of answers you want return"
   ]
  },
  {
   "cell_type": "code",
   "execution_count": 8,
   "metadata": {},
   "outputs": [],
   "source": [
    "query = \"\"\"When does a touch happen in the system?\"\"\"\n",
    "top_k = 3"
   ]
  },
  {
   "cell_type": "markdown",
   "metadata": {},
   "source": [
    "And then use the `.get_answers()` method.     \n",
    "With also choosing the num_faqs, num_questions, num_docs you want to retrieve for the query"
   ]
  },
  {
   "cell_type": "code",
   "execution_count": 9,
   "metadata": {},
   "outputs": [
    {
     "name": "stderr",
     "output_type": "stream",
     "text": [
      "\r",
      "  0%|                                                                                            | 0/1 [00:00<?, ?it/s]"
     ]
    },
    {
     "name": "stdout",
     "output_type": "stream",
     "text": [
      "Predicting answers from 1 document(s)...\n"
     ]
    },
    {
     "name": "stderr",
     "output_type": "stream",
     "text": [
      "100%|████████████████████████████████████████████████████████████████████████████████████| 1/1 [00:08<00:00,  8.67s/it]\n",
      "  0%|                                                                                            | 0/1 [00:00<?, ?it/s]"
     ]
    },
    {
     "name": "stdout",
     "output_type": "stream",
     "text": [
      "Predicting answers from 1 document(s)...\n"
     ]
    },
    {
     "name": "stderr",
     "output_type": "stream",
     "text": [
      "100%|████████████████████████████████████████████████████████████████████████████████████| 1/1 [00:04<00:00,  4.24s/it]"
     ]
    },
    {
     "name": "stdout",
     "output_type": "stream",
     "text": [
      "No answer was predicted for this document!\n",
      "Total inference time: 13.15 seconds\n"
     ]
    },
    {
     "name": "stderr",
     "output_type": "stream",
     "text": [
      "\n"
     ]
    }
   ],
   "source": [
    "start_time = time.time()\n",
    "answers = qa_interface.get_answers(query, top_k=top_k, num_faqs=1, num_questions=1, num_docs=1)\n",
    "print(f\"Total inference time: {round(time.time() - start_time, 2)} seconds\")"
   ]
  },
  {
   "cell_type": "markdown",
   "metadata": {},
   "source": [
    "Just visualizing the answers"
   ]
  },
  {
   "cell_type": "code",
   "execution_count": 10,
   "metadata": {},
   "outputs": [],
   "source": [
    "pp = pprint.PrettyPrinter(indent=2) # not related; only for printing"
   ]
  },
  {
   "cell_type": "code",
   "execution_count": 11,
   "metadata": {
    "scrolled": false
   },
   "outputs": [
    {
     "name": "stdout",
     "output_type": "stream",
     "text": [
      "Question :  When does a touch happen in the system?\n",
      "\n",
      "number 1 asnwer (by confidence)\n",
      "[ { 'answer': 'when the dataset is used as input for a panda task or when '\n",
      "              'rucio download is used to access the data.',\n",
      "    'confidence': 0.5806299379923985,\n",
      "    'extended_answer': 'Hi fac8a3, A \"touch\" occurs when the dataset is used '\n",
      "                       'as input for a panda task or when rucio download is '\n",
      "                       \"used to access the data. I don't see any tasks defined\",\n",
      "    'metadata': { 'bm25_score': 10.277384263879775,\n",
      "                  'comment_id': nan,\n",
      "                  'email_id': 4959.0,\n",
      "                  'end': '413',\n",
      "                  'issue_id': nan,\n",
      "                  'most_similar_question': 'Can you clarify what constitutes '\n",
      "                                           '\"touched\" by the system, so that '\n",
      "                                           \"in the future we can be sure we're \"\n",
      "                                           'protecting these from deletion?',\n",
      "                  'question_id': '2209fe3b811341d1ba3d616b9b6868f6',\n",
      "                  'start': '281'}}]\n",
      "\n",
      "number 2 asnwer (by confidence)\n",
      "[ { 'answer': 'when the dataset is used as input for a panda task',\n",
      "    'confidence': 0.25386583708382204,\n",
      "    'extended_answer': 'Hi fac8a3, A \"touch\" occurs when the dataset is used '\n",
      "                       'as input for a panda task or when rucio download is '\n",
      "                       'use',\n",
      "    'metadata': { 'bm25_score': 10.277384263879775,\n",
      "                  'comment_id': nan,\n",
      "                  'email_id': 4959.0,\n",
      "                  'end': '413',\n",
      "                  'issue_id': nan,\n",
      "                  'most_similar_question': 'Can you clarify what constitutes '\n",
      "                                           '\"touched\" by the system, so that '\n",
      "                                           \"in the future we can be sure we're \"\n",
      "                                           'protecting these from deletion?',\n",
      "                  'question_id': '2209fe3b811341d1ba3d616b9b6868f6',\n",
      "                  'start': '281'}}]\n",
      "\n",
      "number 3 asnwer (by confidence)\n",
      "[ { 'answer': 'Aug 8, 2019',\n",
      "    'confidence': 0.16137712373678426,\n",
      "    'extended_answer': 'asets as well? a8b5f2 On Thu, Aug 8, 2019 at 5:17 AM '\n",
      "                       'edf2f0 edf2f0 < ed',\n",
      "    'metadata': { 'bm25_score': 10.277384263879775,\n",
      "                  'comment_id': nan,\n",
      "                  'email_id': 4959.0,\n",
      "                  'end': '413',\n",
      "                  'issue_id': nan,\n",
      "                  'most_similar_question': 'Can you clarify what constitutes '\n",
      "                                           '\"touched\" by the system, so that '\n",
      "                                           \"in the future we can be sure we're \"\n",
      "                                           'protecting these from deletion?',\n",
      "                  'question_id': '2209fe3b811341d1ba3d616b9b6868f6',\n",
      "                  'start': '281'}}]\n"
     ]
    }
   ],
   "source": [
    "i=0\n",
    "print(\"Question : \", query)\n",
    "for answer in answers:\n",
    "    i+=1\n",
    "    print()\n",
    "    print(f\"number {i} asnwer (by confidence)\")\n",
    "    pp.pprint([{k:v for k,v  in answer.__dict__.items() if k in ['answer','confidence','extended_answer','metadata']}])"
   ]
  },
  {
   "cell_type": "markdown",
   "metadata": {},
   "source": [
    "print_answers(answers)"
   ]
  },
  {
   "cell_type": "markdown",
   "metadata": {},
   "source": [
    "More details like : \n",
    "- What was retrieved   \n",
    "- What each question detected was  "
   ]
  },
  {
   "cell_type": "code",
   "execution_count": 12,
   "metadata": {},
   "outputs": [
    {
     "data": {
      "text/html": [
       "<div>\n",
       "<style scoped>\n",
       "    .dataframe tbody tr th:only-of-type {\n",
       "        vertical-align: middle;\n",
       "    }\n",
       "\n",
       "    .dataframe tbody tr th {\n",
       "        vertical-align: top;\n",
       "    }\n",
       "\n",
       "    .dataframe thead th {\n",
       "        text-align: right;\n",
       "    }\n",
       "</style>\n",
       "<table border=\"1\" class=\"dataframe\">\n",
       "  <thead>\n",
       "    <tr style=\"text-align: right;\">\n",
       "      <th></th>\n",
       "      <th>question</th>\n",
       "      <th>answer</th>\n",
       "      <th>author</th>\n",
       "      <th>keywords</th>\n",
       "      <th>bm25_score</th>\n",
       "      <th>context</th>\n",
       "    </tr>\n",
       "  </thead>\n",
       "  <tbody>\n",
       "  </tbody>\n",
       "</table>\n",
       "</div>"
      ],
      "text/plain": [
       "Empty DataFrame\n",
       "Columns: [question, answer, author, keywords, bm25_score, context]\n",
       "Index: []"
      ]
     },
     "execution_count": 12,
     "metadata": {},
     "output_type": "execute_result"
    }
   ],
   "source": [
    "# retrieved FAQs without extra columns\n",
    "qa_interface.retrieved_faqs.drop(columns=['faq_id','created_at','query'])"
   ]
  },
  {
   "cell_type": "code",
   "execution_count": 13,
   "metadata": {},
   "outputs": [
    {
     "data": {
      "text/html": [
       "<div>\n",
       "<style scoped>\n",
       "    .dataframe tbody tr th:only-of-type {\n",
       "        vertical-align: middle;\n",
       "    }\n",
       "\n",
       "    .dataframe tbody tr th {\n",
       "        vertical-align: top;\n",
       "    }\n",
       "\n",
       "    .dataframe thead th {\n",
       "        text-align: right;\n",
       "    }\n",
       "</style>\n",
       "<table border=\"1\" class=\"dataframe\">\n",
       "  <thead>\n",
       "    <tr style=\"text-align: right;\">\n",
       "      <th></th>\n",
       "      <th>question</th>\n",
       "      <th>start</th>\n",
       "      <th>end</th>\n",
       "      <th>context</th>\n",
       "      <th>email_id</th>\n",
       "      <th>issue_id</th>\n",
       "      <th>comment_id</th>\n",
       "      <th>bm25_score</th>\n",
       "    </tr>\n",
       "  </thead>\n",
       "  <tbody>\n",
       "    <tr>\n",
       "      <th>0</th>\n",
       "      <td>Can you clarify what constitutes \"touched\" by ...</td>\n",
       "      <td>281</td>\n",
       "      <td>413</td>\n",
       "      <td>Hi fac8a3, A \"touch\" occurs when the dataset i...</td>\n",
       "      <td>4959.0</td>\n",
       "      <td>NaN</td>\n",
       "      <td>NaN</td>\n",
       "      <td>10.277384</td>\n",
       "    </tr>\n",
       "  </tbody>\n",
       "</table>\n",
       "</div>"
      ],
      "text/plain": [
       "                                            question start  end  \\\n",
       "0  Can you clarify what constitutes \"touched\" by ...   281  413   \n",
       "\n",
       "                                             context  email_id  issue_id  \\\n",
       "0  Hi fac8a3, A \"touch\" occurs when the dataset i...    4959.0       NaN   \n",
       "\n",
       "   comment_id  bm25_score  \n",
       "0         NaN   10.277384  "
      ]
     },
     "execution_count": 13,
     "metadata": {},
     "output_type": "execute_result"
    }
   ],
   "source": [
    "# retrieved Questions without extra columns\n",
    "qa_interface.retrieved_questions.drop(columns=['question_id','query'])"
   ]
  },
  {
   "cell_type": "code",
   "execution_count": 14,
   "metadata": {},
   "outputs": [
    {
     "data": {
      "text/html": [
       "<div>\n",
       "<style scoped>\n",
       "    .dataframe tbody tr th:only-of-type {\n",
       "        vertical-align: middle;\n",
       "    }\n",
       "\n",
       "    .dataframe tbody tr th {\n",
       "        vertical-align: top;\n",
       "    }\n",
       "\n",
       "    .dataframe thead th {\n",
       "        text-align: right;\n",
       "    }\n",
       "</style>\n",
       "<table border=\"1\" class=\"dataframe\">\n",
       "  <thead>\n",
       "    <tr style=\"text-align: right;\">\n",
       "      <th></th>\n",
       "      <th>name</th>\n",
       "      <th>doc_type</th>\n",
       "      <th>bm25_score</th>\n",
       "      <th>context</th>\n",
       "    </tr>\n",
       "  </thead>\n",
       "  <tbody>\n",
       "    <tr>\n",
       "      <th>0</th>\n",
       "      <td>api.rst</td>\n",
       "      <td>general</td>\n",
       "      <td>3.80881</td>\n",
       "      <td>general The Client API Reference\\n============...</td>\n",
       "    </tr>\n",
       "  </tbody>\n",
       "</table>\n",
       "</div>"
      ],
      "text/plain": [
       "      name doc_type  bm25_score  \\\n",
       "0  api.rst  general     3.80881   \n",
       "\n",
       "                                             context  \n",
       "0  general The Client API Reference\\n============...  "
      ]
     },
     "execution_count": 14,
     "metadata": {},
     "output_type": "execute_result"
    }
   ],
   "source": [
    "# retrieved Rucio documentation without extra columns\n",
    "qa_interface.retrieved_docs.drop(columns=['doc_id','url','body','query'])"
   ]
  }
 ],
 "metadata": {
  "kernelspec": {
   "display_name": "Python 3",
   "language": "python",
   "name": "python3"
  },
  "language_info": {
   "codemirror_mode": {
    "name": "ipython",
    "version": 3
   },
   "file_extension": ".py",
   "mimetype": "text/x-python",
   "name": "python",
   "nbconvert_exporter": "python",
   "pygments_lexer": "ipython3",
   "version": "3.7.6"
  }
 },
 "nbformat": 4,
 "nbformat_minor": 4
}
