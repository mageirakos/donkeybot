{
 "cells": [
  {
   "cell_type": "markdown",
   "metadata": {},
   "source": [
    "Run cells below if you want to use Donkeybot with jupyter notebooks.  \n",
    "Or you can just view the notebook results on GitHub."
   ]
  },
  {
   "cell_type": "code",
   "execution_count": 1,
   "metadata": {},
   "outputs": [],
   "source": [
    "import os"
   ]
  },
  {
   "cell_type": "code",
   "execution_count": 2,
   "metadata": {},
   "outputs": [],
   "source": [
    "os.chdir('..')"
   ]
  },
  {
   "cell_type": "code",
   "execution_count": 4,
   "metadata": {},
   "outputs": [
    {
     "name": "stdout",
     "output_type": "stream",
     "text": [
      "Obtaining file:///D:/projects/gsoc/donkeybot\n",
      "Requirement already satisfied: pandas in d:\\programs\\anaconda3\\lib\\site-packages (from donkeybot==0.1.0) (1.0.1)\n",
      "Requirement already satisfied: numpy in d:\\programs\\anaconda3\\lib\\site-packages (from donkeybot==0.1.0) (1.18.1)\n",
      "Requirement already satisfied: nltk in d:\\programs\\anaconda3\\lib\\site-packages (from donkeybot==0.1.0) (3.5)\n",
      "Requirement already satisfied: rank_bm25 in d:\\programs\\anaconda3\\lib\\site-packages (from donkeybot==0.1.0) (0.2.1)\n",
      "Requirement already satisfied: requests in d:\\programs\\anaconda3\\lib\\site-packages (from donkeybot==0.1.0) (2.24.0)\n",
      "Requirement already satisfied: transformers in d:\\programs\\anaconda3\\lib\\site-packages (from donkeybot==0.1.0) (2.11.0)\n",
      "Note: you may need to restart the kernel to use updated packages.Requirement already satisfied: uuid in d:\\programs\\anaconda3\\lib\\site-packages (from donkeybot==0.1.0) (1.30)\n",
      "Requirement already satisfied: pytz>=2017.2 in d:\\programs\\anaconda3\\lib\\site-packages (from pandas->donkeybot==0.1.0) (2020.1)\n",
      "\n",
      "Requirement already satisfied: python-dateutil>=2.6.1 in d:\\programs\\anaconda3\\lib\\site-packages (from pandas->donkeybot==0.1.0) (2.8.1)\n",
      "Requirement already satisfied: regex in d:\\programs\\anaconda3\\lib\\site-packages (from nltk->donkeybot==0.1.0) (2018.7.11)\n",
      "Requirement already satisfied: click in d:\\programs\\anaconda3\\lib\\site-packages (from nltk->donkeybot==0.1.0) (7.1.2)\n",
      "Requirement already satisfied: joblib in d:\\programs\\anaconda3\\lib\\site-packages (from nltk->donkeybot==0.1.0) (0.16.0)\n",
      "Requirement already satisfied: tqdm in d:\\programs\\anaconda3\\lib\\site-packages (from nltk->donkeybot==0.1.0) (4.48.2)\n",
      "Requirement already satisfied: chardet<4,>=3.0.2 in d:\\programs\\anaconda3\\lib\\site-packages (from requests->donkeybot==0.1.0) (3.0.4)\n",
      "Requirement already satisfied: urllib3!=1.25.0,!=1.25.1,<1.26,>=1.21.1 in d:\\programs\\anaconda3\\lib\\site-packages (from requests->donkeybot==0.1.0) (1.25.10)\n",
      "Requirement already satisfied: certifi>=2017.4.17 in d:\\programs\\anaconda3\\lib\\site-packages (from requests->donkeybot==0.1.0) (2020.6.20)\n",
      "Requirement already satisfied: idna<3,>=2.5 in d:\\programs\\anaconda3\\lib\\site-packages (from requests->donkeybot==0.1.0) (2.10)\n",
      "Requirement already satisfied: sacremoses in d:\\programs\\anaconda3\\lib\\site-packages (from transformers->donkeybot==0.1.0) (0.0.43)\n",
      "Requirement already satisfied: sentencepiece in d:\\programs\\anaconda3\\lib\\site-packages (from transformers->donkeybot==0.1.0) (0.1.91)\n",
      "Requirement already satisfied: packaging in d:\\programs\\anaconda3\\lib\\site-packages (from transformers->donkeybot==0.1.0) (20.4)\n",
      "Requirement already satisfied: filelock in d:\\programs\\anaconda3\\lib\\site-packages (from transformers->donkeybot==0.1.0) (3.0.12)\n",
      "Requirement already satisfied: tokenizers==0.7.0 in d:\\programs\\anaconda3\\lib\\site-packages (from transformers->donkeybot==0.1.0) (0.7.0)\n",
      "Requirement already satisfied: six>=1.5 in d:\\programs\\anaconda3\\lib\\site-packages (from python-dateutil>=2.6.1->pandas->donkeybot==0.1.0) (1.15.0)\n",
      "Requirement already satisfied: pyparsing>=2.0.2 in d:\\programs\\anaconda3\\lib\\site-packages (from packaging->transformers->donkeybot==0.1.0) (2.4.7)\n",
      "Installing collected packages: donkeybot\n",
      "  Attempting uninstall: donkeybot\n",
      "    Found existing installation: donkeybot 0.1.0\n",
      "    Uninstalling donkeybot-0.1.0:\n",
      "      Successfully uninstalled donkeybot-0.1.0\n",
      "  Running setup.py develop for donkeybot\n",
      "Successfully installed donkeybot\n"
     ]
    }
   ],
   "source": [
    "pip install -e ."
   ]
  }
 ],
 "metadata": {
  "kernelspec": {
   "display_name": "Python 3",
   "language": "python",
   "name": "python3"
  },
  "language_info": {
   "codemirror_mode": {
    "name": "ipython",
    "version": 3
   },
   "file_extension": ".py",
   "mimetype": "text/x-python",
   "name": "python",
   "nbconvert_exporter": "python",
   "pygments_lexer": "ipython3",
   "version": "3.7.6"
  }
 },
 "nbformat": 4,
 "nbformat_minor": 4
}
