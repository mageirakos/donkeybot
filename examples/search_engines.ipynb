{
 "cells": [
  {
   "cell_type": "markdown",
   "metadata": {},
   "source": [
    "## Search Engines Notebook Contents\n",
    "- [How can I create a Search Engine?](#How-can-I-create-a-Search-Engine?)\n",
    "- [How can I query the Search Engine?](#How-can-I-query-the-Search-Engine?)"
   ]
  },
  {
   "cell_type": "markdown",
   "metadata": {},
   "source": [
    "**You can use the script `query.py` to query the search engines and  `create_se_indexes.py` is what creates the Search Engine\n",
    "indexes for Donkeybot.**  \n",
    "See [scripts](https://github.com/rucio/donkeybot/tree/master/scripts) for source code and run the scripts with the '-h' option for info on the arguments they take.  \n",
    "eg.  \n",
    "\n",
    "`(virt)$ python scripts/query.py -h`"
   ]
  },
  {
   "cell_type": "markdown",
   "metadata": {},
   "source": [
    "### How can I create a Search Engine?"
   ]
  },
  {
   "cell_type": "markdown",
   "metadata": {},
   "source": [
    "There are 3 types of Search Engines in Donkeybot at the moment:  \n",
    "- `SearchEngine` which is used to query general documenation ( in our case Rucio Documentation )  \n",
    "- `QuestionSearchEngine` which is used to query Question objects saved in Data Storage  \n",
    "- `FAQSearchEngine` which is used to query FAQs saved in Data Storage  "
   ]
  },
  {
   "cell_type": "markdown",
   "metadata": {},
   "source": [
    "Let's create a `QuestionSearchEngine`"
   ]
  },
  {
   "cell_type": "code",
   "execution_count": 1,
   "metadata": {},
   "outputs": [],
   "source": [
    "from bot.searcher.question import QuestionSearchEngine"
   ]
  },
  {
   "cell_type": "code",
   "execution_count": 2,
   "metadata": {},
   "outputs": [
    {
     "data": {
      "text/plain": [
       "<bot.searcher.question.QuestionSearchEngine at 0x2a2cf58a348>"
      ]
     },
     "execution_count": 2,
     "metadata": {},
     "output_type": "execute_result"
    }
   ],
   "source": [
    "qse = QuestionSearchEngine()\n",
    "qse"
   ]
  },
  {
   "cell_type": "markdown",
   "metadata": {},
   "source": [
    "**The QuestionSearchEngine is not yet usable!**    \n",
    "\n",
    "We need 3 things:   \n",
    "\n",
    "**Step 1.** Have a pandas **DataFrame** with the column **question** that holds the information we will index. The document id for th QuestionSearchEngine will be a column named **question_id** under corpus.   \n",
    "\n",
    "*sidenote*: A nice addition to Donkeybot will be the ability to change the name of these columns and have something more general.  \n",
    "But, this is only needed for the sqlite implementation. If in the future we move to Elasticsearch there is no need.\n",
    "\n",
    "**Step 2.** Have an open connection to the Data Storage\n",
    "\n",
    "**Step 3.** `create_index()` or `load_index()` which is the document term matrix of the questions."
   ]
  },
  {
   "cell_type": "code",
   "execution_count": 3,
   "metadata": {},
   "outputs": [
    {
     "data": {
      "text/html": [
       "<div>\n",
       "<style scoped>\n",
       "    .dataframe tbody tr th:only-of-type {\n",
       "        vertical-align: middle;\n",
       "    }\n",
       "\n",
       "    .dataframe tbody tr th {\n",
       "        vertical-align: top;\n",
       "    }\n",
       "\n",
       "    .dataframe thead th {\n",
       "        text-align: right;\n",
       "    }\n",
       "</style>\n",
       "<table border=\"1\" class=\"dataframe\">\n",
       "  <thead>\n",
       "    <tr style=\"text-align: right;\">\n",
       "      <th></th>\n",
       "      <th>question_id</th>\n",
       "      <th>question</th>\n",
       "      <th>answer</th>\n",
       "    </tr>\n",
       "  </thead>\n",
       "  <tbody>\n",
       "    <tr>\n",
       "      <th>0</th>\n",
       "      <td>0</td>\n",
       "      <td>What happened in GSoC 2020 ?</td>\n",
       "      <td>Donkeybot was created!</td>\n",
       "    </tr>\n",
       "    <tr>\n",
       "      <th>1</th>\n",
       "      <td>1</td>\n",
       "      <td>How can I create an index ?</td>\n",
       "      <td>With the .create_index() method!</td>\n",
       "    </tr>\n",
       "    <tr>\n",
       "      <th>2</th>\n",
       "      <td>2</td>\n",
       "      <td>How can I load an index ?</td>\n",
       "      <td>With the .load_index() method!</td>\n",
       "    </tr>\n",
       "    <tr>\n",
       "      <th>3</th>\n",
       "      <td>3</td>\n",
       "      <td>Why are there so many questions in this example?</td>\n",
       "      <td>Because BM25 need enough data to create good t...</td>\n",
       "    </tr>\n",
       "  </tbody>\n",
       "</table>\n",
       "</div>"
      ],
      "text/plain": [
       "   question_id                                          question  \\\n",
       "0            0                      What happened in GSoC 2020 ?   \n",
       "1            1                       How can I create an index ?   \n",
       "2            2                         How can I load an index ?   \n",
       "3            3  Why are there so many questions in this example?   \n",
       "\n",
       "                                              answer  \n",
       "0                             Donkeybot was created!  \n",
       "1                   With the .create_index() method!  \n",
       "2                     With the .load_index() method!  \n",
       "3  Because BM25 need enough data to create good t...  "
      ]
     },
     "execution_count": 3,
     "metadata": {},
     "output_type": "execute_result"
    }
   ],
   "source": [
    "# Step 1\n",
    "import pandas as pd\n",
    "# example DataFrame\n",
    "corpus_df = pd.DataFrame({\"question_id\": [0,1,2,3],\n",
    "                          \"question\":[\"What happened in GSoC 2020 ?\",\n",
    "                                      \"How can I create an index ?\",\n",
    "                                      \"How can I load an index ?\", \n",
    "                                      \"Why are there so many questions in this example?\"], \n",
    "                          \"answer\":[\"Donkeybot was created!\", \n",
    "                                    \"With the .create_index() method!\",\n",
    "                                    \"With the .load_index() method!\",\n",
    "                                    \"Because BM25 need enough data to create good tf-df vectors :D\"]})\n",
    "corpus_df"
   ]
  },
  {
   "cell_type": "code",
   "execution_count": 4,
   "metadata": {},
   "outputs": [],
   "source": [
    "# Step 2\n",
    "from bot.database.sqlite import Database\n",
    "data_storage = Database('your_data_storage.db')"
   ]
  },
  {
   "cell_type": "code",
   "execution_count": 5,
   "metadata": {},
   "outputs": [
    {
     "data": {
      "text/html": [
       "<div>\n",
       "<style scoped>\n",
       "    .dataframe tbody tr th:only-of-type {\n",
       "        vertical-align: middle;\n",
       "    }\n",
       "\n",
       "    .dataframe tbody tr th {\n",
       "        vertical-align: top;\n",
       "    }\n",
       "\n",
       "    .dataframe thead th {\n",
       "        text-align: right;\n",
       "    }\n",
       "</style>\n",
       "<table border=\"1\" class=\"dataframe\">\n",
       "  <thead>\n",
       "    <tr style=\"text-align: right;\">\n",
       "      <th></th>\n",
       "      <th>terms</th>\n",
       "    </tr>\n",
       "    <tr>\n",
       "      <th>question_id</th>\n",
       "      <th></th>\n",
       "    </tr>\n",
       "  </thead>\n",
       "  <tbody>\n",
       "    <tr>\n",
       "      <th>0</th>\n",
       "      <td>gsoc, happen</td>\n",
       "    </tr>\n",
       "    <tr>\n",
       "      <th>1</th>\n",
       "      <td>creat, index</td>\n",
       "    </tr>\n",
       "    <tr>\n",
       "      <th>2</th>\n",
       "      <td>load, index</td>\n",
       "    </tr>\n",
       "    <tr>\n",
       "      <th>3</th>\n",
       "      <td>exampl, mani, question</td>\n",
       "    </tr>\n",
       "  </tbody>\n",
       "</table>\n",
       "</div>"
      ],
      "text/plain": [
       "                              terms\n",
       "question_id                        \n",
       "0                      gsoc, happen\n",
       "1                      creat, index\n",
       "2                       load, index\n",
       "3            exampl, mani, question"
      ]
     },
     "execution_count": 5,
     "metadata": {},
     "output_type": "execute_result"
    }
   ],
   "source": [
    "# Step 3 create the index!\n",
    "qse.create_index(\n",
    "        corpus=corpus_df, db=data_storage, table_name=\"corpus_doc_term_matrix\"\n",
    "    )\n",
    "qse.index"
   ]
  },
  {
   "cell_type": "code",
   "execution_count": 6,
   "metadata": {},
   "outputs": [],
   "source": [
    "data_storage.close_connection()"
   ]
  },
  {
   "cell_type": "markdown",
   "metadata": {},
   "source": [
    "Now the QuestionSearchEngine is ready!"
   ]
  },
  {
   "cell_type": "markdown",
   "metadata": {},
   "source": [
    "### How can I query the Search Engine?"
   ]
  },
  {
   "cell_type": "markdown",
   "metadata": {},
   "source": [
    "Let's try and query the `QuestionSearchEngine` we just created above"
   ]
  },
  {
   "cell_type": "code",
   "execution_count": 7,
   "metadata": {},
   "outputs": [],
   "source": [
    "query = \"Anything cool that happened in this year's GSoC?\" # whatever you want to ask\n",
    "top_n = 1 # number of retrieved documents "
   ]
  },
  {
   "cell_type": "markdown",
   "metadata": {},
   "source": [
    "And just run the `.search()` method."
   ]
  },
  {
   "cell_type": "code",
   "execution_count": 8,
   "metadata": {},
   "outputs": [
    {
     "data": {
      "text/html": [
       "<div>\n",
       "<style scoped>\n",
       "    .dataframe tbody tr th:only-of-type {\n",
       "        vertical-align: middle;\n",
       "    }\n",
       "\n",
       "    .dataframe tbody tr th {\n",
       "        vertical-align: top;\n",
       "    }\n",
       "\n",
       "    .dataframe thead th {\n",
       "        text-align: right;\n",
       "    }\n",
       "</style>\n",
       "<table border=\"1\" class=\"dataframe\">\n",
       "  <thead>\n",
       "    <tr style=\"text-align: right;\">\n",
       "      <th></th>\n",
       "      <th>question_id</th>\n",
       "      <th>question</th>\n",
       "      <th>answer</th>\n",
       "      <th>bm25_score</th>\n",
       "      <th>query</th>\n",
       "    </tr>\n",
       "  </thead>\n",
       "  <tbody>\n",
       "    <tr>\n",
       "      <th>0</th>\n",
       "      <td>0</td>\n",
       "      <td>What happened in GSoC 2020 ?</td>\n",
       "      <td>Donkeybot was created!</td>\n",
       "      <td>1.783785</td>\n",
       "      <td>Anything cool that happened in this year's GSoC?</td>\n",
       "    </tr>\n",
       "  </tbody>\n",
       "</table>\n",
       "</div>"
      ],
      "text/plain": [
       "   question_id                      question                  answer  \\\n",
       "0            0  What happened in GSoC 2020 ?  Donkeybot was created!   \n",
       "\n",
       "   bm25_score                                             query  \n",
       "0    1.783785  Anything cool that happened in this year's GSoC?  "
      ]
     },
     "execution_count": 8,
     "metadata": {},
     "output_type": "execute_result"
    }
   ],
   "source": [
    "qse.search(query, top_n)"
   ]
  }
 ],
 "metadata": {
  "kernelspec": {
   "display_name": "Python 3",
   "language": "python",
   "name": "python3"
  },
  "language_info": {
   "codemirror_mode": {
    "name": "ipython",
    "version": 3
   },
   "file_extension": ".py",
   "mimetype": "text/x-python",
   "name": "python",
   "nbconvert_exporter": "python",
   "pygments_lexer": "ipython3",
   "version": "3.7.6"
  }
 },
 "nbformat": 4,
 "nbformat_minor": 4
}
