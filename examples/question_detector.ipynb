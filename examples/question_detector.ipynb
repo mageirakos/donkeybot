{
 "cells": [
  {
   "cell_type": "markdown",
   "metadata": {},
   "source": [
    "## Question Detector Notebook Contents\n",
    "- [How can I create a QuestionDetector?](#How-can-I-create-a-QuestionDetector?)\n",
    "- [So how does the QuestionDetector work?  ](#So-how-does-the-QuestionDetector-work?)\n",
    "- [What is the difference between IssueQuestion vs EmailQuestion vs IssueCommentQuestion? ](#What-is-the-difference-between-IssueQuestion-vs-EmailQuestion-vs-IssueCommentQuestion?)\n",
    "- [What is this context attribute I'm seeing?](#What-is-this-context-attribute-I'm-seeing-in-the-Question-objects?)\n",
    "- [Can I use the QuestionDetector for my projects that aren't issue/email/comment related?](#Can-I-use-the-QuestionDetector-for-my-projects-that-aren't-issue/email/comment-related?)"
   ]
  },
  {
   "cell_type": "markdown",
   "metadata": {},
   "source": [
    "## How can I create a QuestionDetector?"
   ]
  },
  {
   "cell_type": "markdown",
   "metadata": {},
   "source": [
    "Donkeybot's `QuestionDetector` must be one of the following types : \"email\", \"issue\" or \"comment\"  \n",
    "This is so that the `QuestionDetector` creates the correct type of Question objects.  \n",
    "Be it an `EmailQuestion`, `IssueQuestion`, `CommentQuestion`.  "
   ]
  },
  {
   "cell_type": "markdown",
   "metadata": {},
   "source": [
    "Let's create one for `IssueQuestions`!"
   ]
  },
  {
   "cell_type": "code",
   "execution_count": 1,
   "metadata": {},
   "outputs": [],
   "source": [
    "from bot.question.detector import QuestionDetector"
   ]
  },
  {
   "cell_type": "code",
   "execution_count": 2,
   "metadata": {},
   "outputs": [],
   "source": [
    "detector = QuestionDetector(\"issue\")"
   ]
  },
  {
   "cell_type": "code",
   "execution_count": 3,
   "metadata": {},
   "outputs": [],
   "source": [
    "text =  \"\"\"\n",
    "        What is this 'text', you ask? \n",
    "        Well, it's a monologue I'm having... can it help with something you still ask? \n",
    "        In testing the QuesitonDetector of course! \n",
    "        Did that answer all your questions?\n",
    "        I sure hope so...\"\n",
    "        \"\"\" "
   ]
  },
  {
   "cell_type": "markdown",
   "metadata": {},
   "source": [
    "## So how does the QuestionDetector work?  \n",
    "Simply use the .detect() method!    \n",
    "The results are going to be a list of `Question` objects.    \n",
    "In this specific example `IssueQuestion` objects.    "
   ]
  },
  {
   "cell_type": "code",
   "execution_count": 4,
   "metadata": {},
   "outputs": [
    {
     "data": {
      "text/plain": [
       "[<bot.question.issues.IssueQuestion at 0x2223974d348>,\n",
       " <bot.question.issues.IssueQuestion at 0x2223974d448>,\n",
       " <bot.question.issues.IssueQuestion at 0x2223974d908>]"
      ]
     },
     "execution_count": 4,
     "metadata": {},
     "output_type": "execute_result"
    }
   ],
   "source": [
    "results = detector.detect(text)\n",
    "results"
   ]
  },
  {
   "cell_type": "markdown",
   "metadata": {},
   "source": [
    "And all 3 questions from the sample text above have been identified!"
   ]
  },
  {
   "cell_type": "code",
   "execution_count": 5,
   "metadata": {},
   "outputs": [
    {
     "data": {
      "text/plain": [
       "[\"What is this 'text', you ask?\",\n",
       " 'Did that answer all your questions?',\n",
       " 'can it help with something you still ask?']"
      ]
     },
     "execution_count": 5,
     "metadata": {},
     "output_type": "execute_result"
    }
   ],
   "source": [
    "[(question.question) for question in results]"
   ]
  },
  {
   "cell_type": "markdown",
   "metadata": {},
   "source": [
    "## What is the difference between `IssueQuestion` vs `EmailQuestion` vs `IssueCommentQuestion`? "
   ]
  },
  {
   "cell_type": "markdown",
   "metadata": {},
   "source": [
    "The only difference is their `origin` and how they get their `context` attributes.     "
   ]
  },
  {
   "cell_type": "code",
   "execution_count": 6,
   "metadata": {},
   "outputs": [
    {
     "data": {
      "text/plain": [
       "{'id': '8621376d766242ab9fd740a3698f0dd2',\n",
       " 'question': 'Did that answer all your questions?',\n",
       " 'start': 188,\n",
       " 'end': 223,\n",
       " 'origin': 'issue',\n",
       " 'context': None}"
      ]
     },
     "execution_count": 6,
     "metadata": {},
     "output_type": "execute_result"
    }
   ],
   "source": [
    "results[1].__dict__"
   ]
  },
  {
   "cell_type": "markdown",
   "metadata": {},
   "source": [
    "## What is this `context` attribute I'm seeing in the Question objects?"
   ]
  },
  {
   "cell_type": "markdown",
   "metadata": {},
   "source": [
    "Well, that's what the AnswerDetector uses to try and answer each question!  "
   ]
  },
  {
   "cell_type": "markdown",
   "metadata": {},
   "source": [
    "~To be more specific~\n",
    "\n",
    "1) When a new User Question is asked and is very similar or identical to the questions archived by using the .detect() method.   \n",
    "2) Then the context of these archived questions is used as context for the new User Question.   \n",
    "3) Donkeybot's AnswerDetector tries to find suitable answers!  "
   ]
  },
  {
   "cell_type": "markdown",
   "metadata": {},
   "source": [
    "For `IssueQuestions` the context are any comments that are part of the same GitHub issue.  \n",
    "For `IssueCommentQuestion` the context are comments after this specific one where the Question was detected.  \n",
    "For `EmailQuestions` the context are the bodies of the reply emails to the email where the Question was detected."
   ]
  },
  {
   "cell_type": "markdown",
   "metadata": {},
   "source": [
    "Each different Question object has it's own unique `find_context_from_table()` \n",
    "method that sets the attribute by following the logic explained above.   \n",
    "\n",
    "Basically go into the table in our Data Storage and SELECT the context we want."
   ]
  },
  {
   "cell_type": "markdown",
   "metadata": {},
   "source": [
    "## Can I use the QuestionDetector for my projects that aren't issue/email/comment related?"
   ]
  },
  {
   "cell_type": "markdown",
   "metadata": {},
   "source": [
    "Yes!     \n",
    "\n",
    "But, if you aren't following the issue, email, comment logic Donkeybot follows at the point of writing this.\n",
    "(end of GSoC '20').    \n",
    "\n",
    "Then, Donkeybot needs to be expanded to have a `Question` superclass and a `set_contexT()` method fo you to simple set the context without going into some dependand Data Storage.    \n",
    "\n",
    "If you want to see this in Donkeybot [open an issue](https://github.com/rucio/donkeybot/issues) and suggest it.\n",
    "I'll see that you've been reading the documentation and that this functionality is needed :D \n",
    "\n"
   ]
  }
 ],
 "metadata": {
  "kernelspec": {
   "display_name": "Python 3",
   "language": "python",
   "name": "python3"
  },
  "language_info": {
   "codemirror_mode": {
    "name": "ipython",
    "version": 3
   },
   "file_extension": ".py",
   "mimetype": "text/x-python",
   "name": "python",
   "nbconvert_exporter": "python",
   "pygments_lexer": "ipython3",
   "version": "3.7.6"
  }
 },
 "nbformat": 4,
 "nbformat_minor": 4
}
